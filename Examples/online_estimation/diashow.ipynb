{
 "cells": [
  {
   "cell_type": "code",
   "execution_count": 41,
   "metadata": {},
   "outputs": [],
   "source": [
    "from biomoni import Experiment\n",
    "from biomoni import Yeast\n",
    "import pandas as pd\n",
    "from settings import Result_path\n",
    "from lmfit import Parameters"
   ]
  },
  {
   "cell_type": "code",
   "execution_count": 25,
   "metadata": {},
   "outputs": [],
   "source": [
    "sub_paths = next(os.walk(Result_path))[1]       #yields the subsirectory in the given path\n",
    "newest_results_dir = max([os.path.join(Result_path,i) for i in sub_paths], key=os.path.getmtime) #gives newest subdirectory"
   ]
  },
  {
   "cell_type": "code",
   "execution_count": 26,
   "metadata": {},
   "outputs": [
    {
     "name": "stdout",
     "output_type": "stream",
     "text": [
      "/home/paul/pCloudDrive/Code/biomoni/Messdaten/OPCUA/Results_2021-12-23_09-19-08/estimated_params_14.02.2022_11:55\n"
     ]
    }
   ],
   "source": [
    "import glob\n",
    "import os\n",
    "\n",
    "list_of_files = glob.glob(newest_results_dir + \"/*\") # * means all if need specific format then *.csv\n",
    "latest_file = max(list_of_files, key=os.path.getctime)\n",
    "print(latest_file)"
   ]
  },
  {
   "cell_type": "code",
   "execution_count": 27,
   "metadata": {},
   "outputs": [],
   "source": [
    "#Either param file is the latest file or a manually given file\n",
    "param_file = latest_file\n",
    "\n",
    "#param_file_manual = \"/home/paul/pCloudDrive/Code/biomoni/Messdaten/OPCUA/Results_2021-12-23_09-19-08/estimated_params_14.02.2022_11:08\""
   ]
  },
  {
   "cell_type": "code",
   "execution_count": 28,
   "metadata": {},
   "outputs": [
    {
     "data": {
      "text/plain": [
       "'/home/paul/pCloudDrive/Code/biomoni/Messdaten/OPCUA/Results_2021-12-23_09-19-08/estimated_params_14.02.2022_11:55'"
      ]
     },
     "execution_count": 28,
     "metadata": {},
     "output_type": "execute_result"
    }
   ],
   "source": [
    "param_file"
   ]
  },
  {
   "cell_type": "code",
   "execution_count": 46,
   "metadata": {},
   "outputs": [
    {
     "data": {
      "text/html": [
       "<div>\n",
       "<style scoped>\n",
       "    .dataframe tbody tr th:only-of-type {\n",
       "        vertical-align: middle;\n",
       "    }\n",
       "\n",
       "    .dataframe tbody tr th {\n",
       "        vertical-align: top;\n",
       "    }\n",
       "\n",
       "    .dataframe thead th {\n",
       "        text-align: right;\n",
       "    }\n",
       "</style>\n",
       "<table border=\"1\" class=\"dataframe\">\n",
       "  <thead>\n",
       "    <tr style=\"text-align: right;\">\n",
       "      <th></th>\n",
       "      <th>qsmax</th>\n",
       "      <th>qemax</th>\n",
       "      <th>base_coef</th>\n",
       "      <th>qO2max</th>\n",
       "      <th>qm_max</th>\n",
       "      <th>Ks</th>\n",
       "      <th>Ke</th>\n",
       "      <th>Ki</th>\n",
       "      <th>Yxs_ox</th>\n",
       "      <th>Yxs_red</th>\n",
       "      <th>Yxe_et</th>\n",
       "      <th>Yxg_glyc</th>\n",
       "      <th>HX</th>\n",
       "      <th>OX</th>\n",
       "      <th>NX</th>\n",
       "      <th>g_e</th>\n",
       "    </tr>\n",
       "    <tr>\n",
       "      <th>ts</th>\n",
       "      <th></th>\n",
       "      <th></th>\n",
       "      <th></th>\n",
       "      <th></th>\n",
       "      <th></th>\n",
       "      <th></th>\n",
       "      <th></th>\n",
       "      <th></th>\n",
       "      <th></th>\n",
       "      <th></th>\n",
       "      <th></th>\n",
       "      <th></th>\n",
       "      <th></th>\n",
       "      <th></th>\n",
       "      <th></th>\n",
       "      <th></th>\n",
       "    </tr>\n",
       "  </thead>\n",
       "  <tbody>\n",
       "    <tr>\n",
       "      <th>14.02.2022 11:55:41</th>\n",
       "      <td>1.679815</td>\n",
       "      <td>0.2361</td>\n",
       "      <td>0.007639</td>\n",
       "      <td>0.165874</td>\n",
       "      <td>0.01</td>\n",
       "      <td>0.1</td>\n",
       "      <td>0.1</td>\n",
       "      <td>0.1</td>\n",
       "      <td>0.516915</td>\n",
       "      <td>0.05</td>\n",
       "      <td>0.72</td>\n",
       "      <td>0.2</td>\n",
       "      <td>1.79</td>\n",
       "      <td>0.57</td>\n",
       "      <td>0.15</td>\n",
       "      <td>0.216363</td>\n",
       "    </tr>\n",
       "    <tr>\n",
       "      <th>14.02.2022 11:55:53</th>\n",
       "      <td>1.679815</td>\n",
       "      <td>0.2361</td>\n",
       "      <td>0.007639</td>\n",
       "      <td>0.165874</td>\n",
       "      <td>0.01</td>\n",
       "      <td>0.1</td>\n",
       "      <td>0.1</td>\n",
       "      <td>0.1</td>\n",
       "      <td>0.516915</td>\n",
       "      <td>0.05</td>\n",
       "      <td>0.72</td>\n",
       "      <td>0.2</td>\n",
       "      <td>1.79</td>\n",
       "      <td>0.57</td>\n",
       "      <td>0.15</td>\n",
       "      <td>0.216363</td>\n",
       "    </tr>\n",
       "    <tr>\n",
       "      <th>14.02.2022 11:56:05</th>\n",
       "      <td>1.679815</td>\n",
       "      <td>0.2361</td>\n",
       "      <td>0.007639</td>\n",
       "      <td>0.165874</td>\n",
       "      <td>0.01</td>\n",
       "      <td>0.1</td>\n",
       "      <td>0.1</td>\n",
       "      <td>0.1</td>\n",
       "      <td>0.516915</td>\n",
       "      <td>0.05</td>\n",
       "      <td>0.72</td>\n",
       "      <td>0.2</td>\n",
       "      <td>1.79</td>\n",
       "      <td>0.57</td>\n",
       "      <td>0.15</td>\n",
       "      <td>0.216363</td>\n",
       "    </tr>\n",
       "    <tr>\n",
       "      <th>14.02.2022 11:56:17</th>\n",
       "      <td>1.679815</td>\n",
       "      <td>0.2361</td>\n",
       "      <td>0.007639</td>\n",
       "      <td>0.165874</td>\n",
       "      <td>0.01</td>\n",
       "      <td>0.1</td>\n",
       "      <td>0.1</td>\n",
       "      <td>0.1</td>\n",
       "      <td>0.516915</td>\n",
       "      <td>0.05</td>\n",
       "      <td>0.72</td>\n",
       "      <td>0.2</td>\n",
       "      <td>1.79</td>\n",
       "      <td>0.57</td>\n",
       "      <td>0.15</td>\n",
       "      <td>0.216363</td>\n",
       "    </tr>\n",
       "    <tr>\n",
       "      <th>14.02.2022 11:56:30</th>\n",
       "      <td>1.679815</td>\n",
       "      <td>0.2361</td>\n",
       "      <td>0.007639</td>\n",
       "      <td>0.165874</td>\n",
       "      <td>0.01</td>\n",
       "      <td>0.1</td>\n",
       "      <td>0.1</td>\n",
       "      <td>0.1</td>\n",
       "      <td>0.516915</td>\n",
       "      <td>0.05</td>\n",
       "      <td>0.72</td>\n",
       "      <td>0.2</td>\n",
       "      <td>1.79</td>\n",
       "      <td>0.57</td>\n",
       "      <td>0.15</td>\n",
       "      <td>0.216363</td>\n",
       "    </tr>\n",
       "    <tr>\n",
       "      <th>14.02.2022 11:56:42</th>\n",
       "      <td>1.679815</td>\n",
       "      <td>0.2361</td>\n",
       "      <td>0.007639</td>\n",
       "      <td>0.165874</td>\n",
       "      <td>0.01</td>\n",
       "      <td>0.1</td>\n",
       "      <td>0.1</td>\n",
       "      <td>0.1</td>\n",
       "      <td>0.516915</td>\n",
       "      <td>0.05</td>\n",
       "      <td>0.72</td>\n",
       "      <td>0.2</td>\n",
       "      <td>1.79</td>\n",
       "      <td>0.57</td>\n",
       "      <td>0.15</td>\n",
       "      <td>0.216363</td>\n",
       "    </tr>\n",
       "    <tr>\n",
       "      <th>14.02.2022 11:56:55</th>\n",
       "      <td>1.679815</td>\n",
       "      <td>0.2361</td>\n",
       "      <td>0.007639</td>\n",
       "      <td>0.165874</td>\n",
       "      <td>0.01</td>\n",
       "      <td>0.1</td>\n",
       "      <td>0.1</td>\n",
       "      <td>0.1</td>\n",
       "      <td>0.516915</td>\n",
       "      <td>0.05</td>\n",
       "      <td>0.72</td>\n",
       "      <td>0.2</td>\n",
       "      <td>1.79</td>\n",
       "      <td>0.57</td>\n",
       "      <td>0.15</td>\n",
       "      <td>0.216363</td>\n",
       "    </tr>\n",
       "  </tbody>\n",
       "</table>\n",
       "</div>"
      ],
      "text/plain": [
       "                        qsmax   qemax  base_coef    qO2max  qm_max   Ks   Ke  \\\n",
       "ts                                                                             \n",
       "14.02.2022 11:55:41  1.679815  0.2361   0.007639  0.165874    0.01  0.1  0.1   \n",
       "14.02.2022 11:55:53  1.679815  0.2361   0.007639  0.165874    0.01  0.1  0.1   \n",
       "14.02.2022 11:56:05  1.679815  0.2361   0.007639  0.165874    0.01  0.1  0.1   \n",
       "14.02.2022 11:56:17  1.679815  0.2361   0.007639  0.165874    0.01  0.1  0.1   \n",
       "14.02.2022 11:56:30  1.679815  0.2361   0.007639  0.165874    0.01  0.1  0.1   \n",
       "14.02.2022 11:56:42  1.679815  0.2361   0.007639  0.165874    0.01  0.1  0.1   \n",
       "14.02.2022 11:56:55  1.679815  0.2361   0.007639  0.165874    0.01  0.1  0.1   \n",
       "\n",
       "                      Ki    Yxs_ox  Yxs_red  Yxe_et  Yxg_glyc    HX    OX  \\\n",
       "ts                                                                          \n",
       "14.02.2022 11:55:41  0.1  0.516915     0.05    0.72       0.2  1.79  0.57   \n",
       "14.02.2022 11:55:53  0.1  0.516915     0.05    0.72       0.2  1.79  0.57   \n",
       "14.02.2022 11:56:05  0.1  0.516915     0.05    0.72       0.2  1.79  0.57   \n",
       "14.02.2022 11:56:17  0.1  0.516915     0.05    0.72       0.2  1.79  0.57   \n",
       "14.02.2022 11:56:30  0.1  0.516915     0.05    0.72       0.2  1.79  0.57   \n",
       "14.02.2022 11:56:42  0.1  0.516915     0.05    0.72       0.2  1.79  0.57   \n",
       "14.02.2022 11:56:55  0.1  0.516915     0.05    0.72       0.2  1.79  0.57   \n",
       "\n",
       "                       NX       g_e  \n",
       "ts                                   \n",
       "14.02.2022 11:55:41  0.15  0.216363  \n",
       "14.02.2022 11:55:53  0.15  0.216363  \n",
       "14.02.2022 11:56:05  0.15  0.216363  \n",
       "14.02.2022 11:56:17  0.15  0.216363  \n",
       "14.02.2022 11:56:30  0.15  0.216363  \n",
       "14.02.2022 11:56:42  0.15  0.216363  \n",
       "14.02.2022 11:56:55  0.15  0.216363  "
      ]
     },
     "execution_count": 46,
     "metadata": {},
     "output_type": "execute_result"
    }
   ],
   "source": [
    "df = pd.read_csv(param_file).set_index(\"ts\")\n",
    "df"
   ]
  },
  {
   "cell_type": "code",
   "execution_count": 45,
   "metadata": {},
   "outputs": [
    {
     "name": "stderr",
     "output_type": "stream",
     "text": [
      "/home/paul/.local/lib/python3.8/site-packages/lmfit/parameter.py:71: FutureWarning: The use of the 'asteval' argument for the Parameters class was deprecated in lmfit v0.9.12 and will be removed in a later release. Please use the 'usersyms' argument instead!\n",
      "  warnings.warn(FutureWarning(msg))\n"
     ]
    },
    {
     "ename": "AttributeError",
     "evalue": "'dict' object has no attribute 'symtable'",
     "output_type": "error",
     "traceback": [
      "\u001b[0;31m---------------------------------------------------------------------------\u001b[0m",
      "\u001b[0;31mAttributeError\u001b[0m                            Traceback (most recent call last)",
      "\u001b[0;32m/tmp/ipykernel_17600/2148340674.py\u001b[0m in \u001b[0;36m<module>\u001b[0;34m\u001b[0m\n\u001b[0;32m----> 1\u001b[0;31m \u001b[0mx\u001b[0m \u001b[0;34m=\u001b[0m \u001b[0mParameters\u001b[0m\u001b[0;34m(\u001b[0m\u001b[0;34m{\u001b[0m\u001b[0;34m\"lel\"\u001b[0m\u001b[0;34m:\u001b[0m \u001b[0;36m4.3\u001b[0m\u001b[0;34m}\u001b[0m\u001b[0;34m)\u001b[0m\u001b[0;34m\u001b[0m\u001b[0;34m\u001b[0m\u001b[0m\n\u001b[0m",
      "\u001b[0;32m~/.local/lib/python3.8/site-packages/lmfit/parameter.py\u001b[0m in \u001b[0;36m__init__\u001b[0;34m(self, asteval, usersyms)\u001b[0m\n\u001b[1;32m     77\u001b[0m             \u001b[0m_syms\u001b[0m\u001b[0;34m.\u001b[0m\u001b[0mupdate\u001b[0m\u001b[0;34m(\u001b[0m\u001b[0musersyms\u001b[0m\u001b[0;34m)\u001b[0m\u001b[0;34m\u001b[0m\u001b[0;34m\u001b[0m\u001b[0m\n\u001b[1;32m     78\u001b[0m         \u001b[0;32mfor\u001b[0m \u001b[0mkey\u001b[0m\u001b[0;34m,\u001b[0m \u001b[0mval\u001b[0m \u001b[0;32min\u001b[0m \u001b[0m_syms\u001b[0m\u001b[0;34m.\u001b[0m\u001b[0mitems\u001b[0m\u001b[0;34m(\u001b[0m\u001b[0;34m)\u001b[0m\u001b[0;34m:\u001b[0m\u001b[0;34m\u001b[0m\u001b[0;34m\u001b[0m\u001b[0m\n\u001b[0;32m---> 79\u001b[0;31m             \u001b[0mself\u001b[0m\u001b[0;34m.\u001b[0m\u001b[0m_asteval\u001b[0m\u001b[0;34m.\u001b[0m\u001b[0msymtable\u001b[0m\u001b[0;34m[\u001b[0m\u001b[0mkey\u001b[0m\u001b[0;34m]\u001b[0m \u001b[0;34m=\u001b[0m \u001b[0mval\u001b[0m\u001b[0;34m\u001b[0m\u001b[0;34m\u001b[0m\u001b[0m\n\u001b[0m\u001b[1;32m     80\u001b[0m \u001b[0;34m\u001b[0m\u001b[0m\n\u001b[1;32m     81\u001b[0m     \u001b[0;32mdef\u001b[0m \u001b[0mcopy\u001b[0m\u001b[0;34m(\u001b[0m\u001b[0mself\u001b[0m\u001b[0;34m)\u001b[0m\u001b[0;34m:\u001b[0m\u001b[0;34m\u001b[0m\u001b[0;34m\u001b[0m\u001b[0m\n",
      "\u001b[0;31mAttributeError\u001b[0m: 'dict' object has no attribute 'symtable'"
     ]
    }
   ],
   "source": []
  },
  {
   "cell_type": "code",
   "execution_count": null,
   "metadata": {},
   "outputs": [],
   "source": [
    "p0.add"
   ]
  }
 ],
 "metadata": {
  "interpreter": {
   "hash": "a170f962d07ed8515a1e0cfe90051c8c49c07a10f515ca6de22ae850428164e9"
  },
  "kernelspec": {
   "display_name": "Python 3.8.8 ('base')",
   "language": "python",
   "name": "python3"
  },
  "language_info": {
   "codemirror_mode": {
    "name": "ipython",
    "version": 3
   },
   "file_extension": ".py",
   "mimetype": "text/x-python",
   "name": "python",
   "nbconvert_exporter": "python",
   "pygments_lexer": "ipython3",
   "version": "3.8.8"
  },
  "orig_nbformat": 4
 },
 "nbformat": 4,
 "nbformat_minor": 2
}
